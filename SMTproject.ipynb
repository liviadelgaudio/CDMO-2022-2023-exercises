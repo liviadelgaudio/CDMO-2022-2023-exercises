{
  "cells": [
    {
      "cell_type": "markdown",
      "metadata": {
        "id": "view-in-github",
        "colab_type": "text"
      },
      "source": [
        "<a href=\"https://colab.research.google.com/github/liviadelgaudio/CDMO-2022-2023-exercises/blob/main/SMTproject.ipynb\" target=\"_parent\"><img src=\"https://colab.research.google.com/assets/colab-badge.svg\" alt=\"Open In Colab\"/></a>"
      ]
    },
    {
      "cell_type": "code",
      "execution_count": 3,
      "metadata": {
        "colab": {
          "base_uri": "https://localhost:8080/"
        },
        "id": "hV8tIEjdEJ9I",
        "outputId": "80eca44a-ddb6-4c6d-e842-b9cf2fbc0bd2"
      },
      "outputs": [
        {
          "output_type": "stream",
          "name": "stdout",
          "text": [
            "Looking in indexes: https://pypi.org/simple, https://us-python.pkg.dev/colab-wheels/public/simple/\n",
            "Collecting z3-solver\n",
            "  Downloading z3_solver-4.12.2.0-py2.py3-none-manylinux2014_x86_64.whl (55.7 MB)\n",
            "\u001b[2K     \u001b[90m━━━━━━━━━━━━━━━━━━━━━━━━━━━━━━━━━━━━━━━━\u001b[0m \u001b[32m55.7/55.7 MB\u001b[0m \u001b[31m12.1 MB/s\u001b[0m eta \u001b[36m0:00:00\u001b[0m\n",
            "\u001b[?25hInstalling collected packages: z3-solver\n",
            "Successfully installed z3-solver-4.12.2.0\n"
          ]
        }
      ],
      "source": [
        "!pip install z3-solver\n"
      ]
    },
    {
      "cell_type": "code",
      "execution_count": 4,
      "metadata": {
        "id": "2SVhkKZiFVOY"
      },
      "outputs": [],
      "source": [
        "from z3 import *\n"
      ]
    },
    {
      "cell_type": "code",
      "execution_count": 5,
      "metadata": {
        "id": "hVSqYJYvObIC"
      },
      "outputs": [],
      "source": [
        "n = 7\n",
        "m = 3\n",
        "dist = [\n",
        "\t[0, 3, 3, 6, 5, 8, 6, 2],\n",
        "\t[3, 0, 6, 3, 4, 7, 7, 3],\n",
        "\t[3, 4, 0, 7, 6, 3, 9, 3],\n",
        "\t[6, 3, 7, 0, 5, 6, 7, 4], \n",
        "\t[5, 4, 6, 3, 0, 3, 3, 3],\n",
        "\t[6, 7, 3, 6, 3, 0, 2, 4],\n",
        "\t[6, 7, 5, 6, 3, 2, 0, 4],\n",
        "\t[2, 3, 3, 4, 3, 4, 4, 0]];\n",
        "load = [15,10,7];\n",
        "size = [3,2,6,8,5,4,4];\n"
      ]
    },
    {
      "cell_type": "code",
      "execution_count": 11,
      "metadata": {
        "id": "Cm2y3egOIP0c"
      },
      "outputs": [],
      "source": [
        "# n, m = Ints('n m')  #  n items  m courier\n",
        "# load = IntVector('load', m) # max load for each courier \n",
        "# size = IntVector('size', n) # size for each item\n",
        "# dist = Array('dist', IntSort(), ArraySort(IntSort(), IntSort())) # distance matrix\n",
        "\n",
        "def smt_solver(n, m, dist, load, size):\n",
        "  #goesTo = Array('goesTo', IntSort(), ArraySort(IntSort(), IntSort())) # decisional variable\n",
        "  goesTo = [[Int(\"goesTo_{}_{}\".format(i, j)) for j in range(n+2)] for i in range(m)]\n",
        "\n",
        "\n",
        "  s = Solver()\n",
        "  # vincolo su indici goesTo\n",
        "  for i in range(m):\n",
        "    for j in range(n+2):\n",
        "      s.add(And(goesTo[i][j]>=1, goesTo[i][j]<=n+1)) # vincolo su numeri \n",
        "    s.add(And(goesTo[i][0]==n+1, goesTo[i][n+1]==n+1 )) # vincolo su origine e fine \n",
        "\n",
        "\n",
        "  # constraint 1: vincolo su load \n",
        "  for i in range(m):\n",
        "    #pass\n",
        "    s.add(Sum([goesTo[i][j] for j in range(1, n+1) if (goesTo != n+1)]) <= load[i]) #???\n",
        "    #s.add(Sum([If(goesTo[i][j]!=n+1, goesTo[i][j], 0) for j in range(1, n+1)]) <= load[i])\n",
        "\n",
        "\n",
        "\n",
        "  # constraint 2: each item is assigned to just one courier \n",
        "  for j in range(1,n+1):\n",
        "      ##s.add(Count([goesTo[i][j] for i in range(m)])==1)\n",
        "      pass\n",
        "\n",
        "\n",
        "  print(s.check())\n",
        "  print(s.model())\n",
        "  print(s.model().eval(goesTo[0][0]))\n",
        "  return s.model()\n"
      ]
    },
    {
      "cell_type": "code",
      "execution_count": 12,
      "metadata": {
        "colab": {
          "base_uri": "https://localhost:8080/",
          "height": 578
        },
        "id": "CA6MFrIQPTfJ",
        "outputId": "afe2ca57-1bf6-4858-b5c5-1f739e6f5a99"
      },
      "outputs": [
        {
          "output_type": "stream",
          "name": "stdout",
          "text": [
            "goesTo_0_0\n",
            "sat\n",
            "[goesTo_2_3 = 1,\n",
            " goesTo_0_3 = 1,\n",
            " goesTo_0_2 = 1,\n",
            " goesTo_0_5 = 1,\n",
            " goesTo_0_6 = 1,\n",
            " goesTo_2_6 = 1,\n",
            " goesTo_1_5 = 1,\n",
            " goesTo_0_4 = 1,\n",
            " goesTo_1_1 = 1,\n",
            " goesTo_1_2 = 1,\n",
            " goesTo_2_2 = 1,\n",
            " goesTo_2_4 = 1,\n",
            " goesTo_1_6 = 1,\n",
            " goesTo_2_7 = 1,\n",
            " goesTo_2_5 = 1,\n",
            " goesTo_0_7 = 1,\n",
            " goesTo_1_3 = 1,\n",
            " goesTo_0_1 = 1,\n",
            " goesTo_1_4 = 1,\n",
            " goesTo_2_1 = 1,\n",
            " goesTo_1_7 = 1,\n",
            " goesTo_1_8 = 8,\n",
            " goesTo_0_8 = 8,\n",
            " goesTo_0_0 = 8,\n",
            " goesTo_2_8 = 8,\n",
            " goesTo_2_0 = 8,\n",
            " goesTo_1_0 = 8]\n",
            "8\n"
          ]
        },
        {
          "output_type": "execute_result",
          "data": {
            "text/plain": [
              "[goesTo_2_3 = 1,\n",
              " goesTo_0_3 = 1,\n",
              " goesTo_0_2 = 1,\n",
              " goesTo_0_5 = 1,\n",
              " goesTo_0_6 = 1,\n",
              " goesTo_2_6 = 1,\n",
              " goesTo_1_5 = 1,\n",
              " goesTo_0_4 = 1,\n",
              " goesTo_1_1 = 1,\n",
              " goesTo_1_2 = 1,\n",
              " goesTo_2_2 = 1,\n",
              " goesTo_2_4 = 1,\n",
              " goesTo_1_6 = 1,\n",
              " goesTo_2_7 = 1,\n",
              " goesTo_2_5 = 1,\n",
              " goesTo_0_7 = 1,\n",
              " goesTo_1_3 = 1,\n",
              " goesTo_0_1 = 1,\n",
              " goesTo_1_4 = 1,\n",
              " goesTo_2_1 = 1,\n",
              " goesTo_1_7 = 1,\n",
              " goesTo_1_8 = 8,\n",
              " goesTo_0_8 = 8,\n",
              " goesTo_0_0 = 8,\n",
              " goesTo_2_8 = 8,\n",
              " goesTo_2_0 = 8,\n",
              " goesTo_1_0 = 8]"
            ],
            "text/html": [
              "[goesTo_2_3 = 1,\n",
              " goesTo_0_3 = 1,\n",
              " goesTo_0_2 = 1,\n",
              " goesTo_0_5 = 1,\n",
              " goesTo_0_6 = 1,\n",
              " goesTo_2_6 = 1,\n",
              " goesTo_1_5 = 1,\n",
              " goesTo_0_4 = 1,\n",
              " goesTo_1_1 = 1,\n",
              " goesTo_1_2 = 1,\n",
              " goesTo_2_2 = 1,\n",
              " goesTo_2_4 = 1,\n",
              " goesTo_1_6 = 1,\n",
              " goesTo_2_7 = 1,\n",
              " goesTo_2_5 = 1,\n",
              " goesTo_0_7 = 1,\n",
              " goesTo_1_3 = 1,\n",
              " goesTo_0_1 = 1,\n",
              " goesTo_1_4 = 1,\n",
              " goesTo_2_1 = 1,\n",
              " goesTo_1_7 = 1,\n",
              " goesTo_1_8 = 8,\n",
              " goesTo_0_8 = 8,\n",
              " goesTo_0_0 = 8,\n",
              " goesTo_2_8 = 8,\n",
              " goesTo_2_0 = 8,\n",
              " goesTo_1_0 = 8]"
            ]
          },
          "metadata": {},
          "execution_count": 12
        }
      ],
      "source": [
        "smt_solver(n, m, dist, load, size)"
      ]
    }
  ],
  "metadata": {
    "accelerator": "GPU",
    "colab": {
      "gpuType": "T4",
      "provenance": [],
      "include_colab_link": true
    },
    "gpuClass": "standard",
    "kernelspec": {
      "display_name": "Python 3",
      "name": "python3"
    },
    "language_info": {
      "name": "python"
    }
  },
  "nbformat": 4,
  "nbformat_minor": 0
}