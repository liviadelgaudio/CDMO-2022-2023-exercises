{
  "nbformat": 4,
  "nbformat_minor": 0,
  "metadata": {
    "colab": {
      "provenance": [],
      "include_colab_link": true
    },
    "kernelspec": {
      "name": "python3",
      "display_name": "Python 3"
    },
    "language_info": {
      "name": "python"
    }
  },
  "cells": [
    {
      "cell_type": "markdown",
      "metadata": {
        "id": "view-in-github",
        "colab_type": "text"
      },
      "source": [
        "<a href=\"https://colab.research.google.com/github/liviadelgaudio/CDMO-2022-2023-exercises/blob/main/SMT/SMT_28_05.ipynb\" target=\"_parent\"><img src=\"https://colab.research.google.com/assets/colab-badge.svg\" alt=\"Open In Colab\"/></a>"
      ]
    },
    {
      "cell_type": "code",
      "execution_count": 1,
      "metadata": {
        "colab": {
          "base_uri": "https://localhost:8080/"
        },
        "id": "YSEcqCzz3XyE",
        "outputId": "235199cd-a051-47d7-d51c-7e2474cc12d5"
      },
      "outputs": [
        {
          "output_type": "stream",
          "name": "stdout",
          "text": [
            "Looking in indexes: https://pypi.org/simple, https://us-python.pkg.dev/colab-wheels/public/simple/\n",
            "Collecting z3-solver\n",
            "  Downloading z3_solver-4.12.2.0-py2.py3-none-manylinux2014_x86_64.whl (55.7 MB)\n",
            "\u001b[2K     \u001b[90m━━━━━━━━━━━━━━━━━━━━━━━━━━━━━━━━━━━━━━━━\u001b[0m \u001b[32m55.7/55.7 MB\u001b[0m \u001b[31m14.0 MB/s\u001b[0m eta \u001b[36m0:00:00\u001b[0m\n",
            "\u001b[?25hInstalling collected packages: z3-solver\n",
            "Successfully installed z3-solver-4.12.2.0\n"
          ]
        }
      ],
      "source": [
        "!pip install z3-solver\n",
        "from z3 import *"
      ]
    },
    {
      "cell_type": "code",
      "source": [
        "# esempio di istanza\n",
        "n = 7\n",
        "m = 3\n",
        "dist = [\n",
        "\t[0, 3, 3, 6, 5, 8, 6, 2],\n",
        "\t[3, 0, 6, 3, 4, 7, 7, 3],\n",
        "\t[3, 4, 0, 7, 6, 3, 9, 3],\n",
        "\t[6, 3, 7, 0, 5, 6, 7, 4], \n",
        "\t[5, 4, 6, 3, 0, 3, 3, 3],\n",
        "\t[6, 7, 3, 6, 3, 0, 2, 4],\n",
        "\t[6, 7, 5, 6, 3, 2, 0, 4],\n",
        "\t[2, 3, 3, 4, 3, 4, 4, 0]];\n",
        "load = [15,10,7];\n",
        "size = [3,2,6,8,5,4,4];\n"
      ],
      "metadata": {
        "id": "TkirVbx63gAn"
      },
      "execution_count": 2,
      "outputs": []
    },
    {
      "cell_type": "code",
      "source": [
        "def display_mlp(sol, m_couriers, n_items):\n",
        "    for c in range(1,m_couriers+1):\n",
        "        print('Courier %i' %c)\n",
        "        for n in range(n_items+2): #timesteps j\n",
        "            is_working = False\n",
        "            for s in range(n_items+1): #items k \n",
        "                if (s, n, c-1) in sol:\n",
        "                    is_working = True\n",
        "                    print('  courier %i carries item %i at time %i' % (c, s, n ))\n",
        "            if not is_working:\n",
        "                print('  Courier %i does not work at time %i'.format(c, n))"
      ],
      "metadata": {
        "id": "ajrrv6xufmms"
      },
      "execution_count": 3,
      "outputs": []
    },
    {
      "cell_type": "code",
      "source": [
        "\n",
        "def smt_solver(n, m, dist, load, size):\n",
        "  # Create all the variables, goesTo[i, j, k] is True if item i is assigned to courier k on time j.\n",
        "  goesTo = [[[Bool(f\"x_{i}_{j}_{k}\") for k in range(m)] for j in range(n+2)] for i in range(n+1)]\n",
        "  tours = [[Int('tours_{}_{}'.format(i,j)) for j in range(m)] for i in range(n+2)] \n",
        "\n",
        "\n",
        "  s = Optimize()\n",
        "\n",
        "\n",
        "  #in ogni time step item viene assegnato al più un item a ciascun corriere\n",
        "  for j in range(n+2):\n",
        "    for k in range(m):\n",
        "      s.add(Sum([goesTo[i][j][k] for i in range(n+1)])==1)\n",
        "\n",
        "  #ciascun corriere parte e termina in n+1\n",
        "  for k in range(m):\n",
        "    s.add(And(goesTo[n][0][k]==True, goesTo[n][n+1][k]==True))\n",
        "\n",
        "  #ciascun item è assegnato a un solo corriere -> 1) se un item i è assegnato al corriere k, implica che per tutti gli altri corrieri la riga i sarà 0\n",
        "  #2)se un item i è assegnato al corriere k, implica che tutti gli altri elementi della riga i saranno 0\n",
        "  for i in range(n):\n",
        "    for j in range(1,n+1):\n",
        "      for k in range(m):\n",
        "        s.add(Implies(goesTo[i][j][k], Sum([goesTo[i][t][c] for t in range(1,n+1) for c in range(m) if c!=k])==0))\n",
        "        s.add(Implies(goesTo[i][j][k], And([goesTo[i][t][k]==False for t in range(1,n+1) if t != j])))\n",
        "\n",
        "  #vincolo sul load: per ciascun corriere, la somma degli item che gli sono assegnati non deve eccedere la sua load\n",
        "  for k in range(m):\n",
        "    for j in range(1,n+1):\n",
        "      s.add(Sum([If(goesTo[i][j][k]==True, size[i], 0) for i in range(n)])<= load[k])\n",
        "\n",
        "  #se un corriere è in posizione n+1 ad un time step diverso da 0, implica che sarà in posizione n+1 anche in tutti i timestep successivi\n",
        "  for j in range(1,n+1):\n",
        "    for k in range(m):\n",
        "      s.add(Implies(goesTo[n][j][k], And([goesTo[n][t][k]==True for t in range(j+1, n+1)])))\n",
        "\n",
        "  #calcolo distanze ??? \n",
        "  max_distance = Int('max_distance')\n",
        "  s.add(max_distance > 0)\n",
        "\n",
        "  #tour fatto da indici i\n",
        "  for k in range(m):\n",
        "    for i in range(n+1):\n",
        "        s.add([Implies(goesTo[i][j][k], tours[j][k]==i) for j in range(n+2)]) #così i tour vengono calcolati correttamente\n",
        "        #s.add([[Implies(And(goesTo[i][j][k], goesTo[l][j+1][k]), tours[j][k]==dist[i,l]) for l in range(n+1)] for j in range(n+1)]) #alternativa: uso tours come array in cui salvare tutte le distanze che sarebbero poi da sommare -> problema con gli indici di dist, che non vengono letti come interi\n",
        "  \n",
        "  #s.add(max([Sum([dist[a,b] for a,b in zip([tours[j][k] for j in range(n+1)], [tours[j][k] for j in range(1,n+2)])] for k in range(m))])==max_distance) #Uso i valori salvati in ciascun tour per calcolare distanza prendendo indici a due a due -> Non funziona perche non si accede ai valori di tour, vedi stampa sotto\n",
        "  print([(a, b) for a,b in zip([tours[j][0] for j in range(n+1)], [tours[j][0] for j in range(1,n+2)])])\n",
        "\n",
        "  \n",
        "  '''\n",
        "  maximum = Sum([tours[j][k] for j in range(n+2)])\n",
        "  for k in range(1,m): \n",
        "    if  Sum([tours[j][k] for j in range(n+2)]) > maximum:\n",
        "      maximum =  Sum([tours[j][k] for j in range(n+2)])\n",
        "  s.add(max_distance == maximum)\n",
        "\n",
        "  #optimize to minimize max distance\n",
        "  \n",
        "  s.minimize(max_distance)\n",
        "  '''\n",
        " \n",
        "\n",
        "  if s.check() == sat:\n",
        "        model = s.model()\n",
        "        for k in range(m):\n",
        "          print(\"Tour of courier {}: {}\".format(k, [model.evaluate(tours[i][k]) for i in range(n+2)]))\n",
        "        #print(model.evaluate(max_distance))\n",
        "        return [(i, j, k) for i in range(n+1) for j in range(n+2) for k in range(m) if model.evaluate(goesTo[i][j][k])]\n",
        "        '''\n",
        "        for k in range(m):\n",
        "          print(\"Courier {}\".format(k+1))\n",
        "          for j in range(n+2):\n",
        "            if model.evaluate(goesTo[n][j][k]): #il corriere è in posizione n+1 (origine) al time step j\n",
        "              print(\"Courier %i does not work at time %i\".format(k,j))\n",
        "            else:\n",
        "              print(\"Courier %i goes to location %i at time %i\".format(k,i,j))  \n",
        "          return \n",
        "          '''\n",
        "  else:\n",
        "        return \"Unsat\"  "
      ],
      "metadata": {
        "id": "dk_MhuHC3fAl"
      },
      "execution_count": 50,
      "outputs": []
    },
    {
      "cell_type": "code",
      "source": [
        "display_mlp(smt_solver(n, m, dist, load, size), m, n)\n",
        "#smt_solver(n, m, dist, load, size)"
      ],
      "metadata": {
        "colab": {
          "base_uri": "https://localhost:8080/"
        },
        "id": "QsyGmt_m3n25",
        "outputId": "060bc6ed-5915-4ba0-8957-101a4c6c0b79"
      },
      "execution_count": 49,
      "outputs": [
        {
          "output_type": "stream",
          "name": "stdout",
          "text": [
            "[(tours_0_0, tours_1_0), (tours_1_0, tours_2_0), (tours_2_0, tours_3_0), (tours_3_0, tours_4_0), (tours_4_0, tours_5_0), (tours_5_0, tours_6_0), (tours_6_0, tours_7_0), (tours_7_0, tours_8_0)]\n",
            "Tour courier 0: [7, 3, 5, 7, 7, 7, 7, 7, 7]\n",
            "Tour courier 1: [7, 7, 7, 7, 7, 7, 7, 7, 7]\n",
            "Tour courier 2: [7, 6, 2, 4, 0, 1, 7, 7, 7]\n",
            "Courier 1\n",
            "  courier 1 carries item 7 at time 0\n",
            "  courier 1 carries item 3 at time 1\n",
            "  courier 1 carries item 5 at time 2\n",
            "  courier 1 carries item 7 at time 3\n",
            "  courier 1 carries item 7 at time 4\n",
            "  courier 1 carries item 7 at time 5\n",
            "  courier 1 carries item 7 at time 6\n",
            "  courier 1 carries item 7 at time 7\n",
            "  courier 1 carries item 7 at time 8\n",
            "Courier 2\n",
            "  courier 2 carries item 7 at time 0\n",
            "  courier 2 carries item 7 at time 1\n",
            "  courier 2 carries item 7 at time 2\n",
            "  courier 2 carries item 7 at time 3\n",
            "  courier 2 carries item 7 at time 4\n",
            "  courier 2 carries item 7 at time 5\n",
            "  courier 2 carries item 7 at time 6\n",
            "  courier 2 carries item 7 at time 7\n",
            "  courier 2 carries item 7 at time 8\n",
            "Courier 3\n",
            "  courier 3 carries item 7 at time 0\n",
            "  courier 3 carries item 6 at time 1\n",
            "  courier 3 carries item 2 at time 2\n",
            "  courier 3 carries item 4 at time 3\n",
            "  courier 3 carries item 0 at time 4\n",
            "  courier 3 carries item 1 at time 5\n",
            "  courier 3 carries item 7 at time 6\n",
            "  courier 3 carries item 7 at time 7\n",
            "  courier 3 carries item 7 at time 8\n"
          ]
        }
      ]
    }
  ]
}